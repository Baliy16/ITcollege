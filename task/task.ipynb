{
  "metadata": {
    "kernelspec": {
      "name": "python",
      "display_name": "Python (Pyodide)",
      "language": "python"
    },
    "language_info": {
      "codemirror_mode": {
        "name": "python",
        "version": 3
      },
      "file_extension": ".py",
      "mimetype": "text/x-python",
      "name": "python",
      "nbconvert_exporter": "python",
      "pygments_lexer": "ipython3",
      "version": "3.8"
    }
  },
  "nbformat_minor": 4,
  "nbformat": 4,
  "cells": [
    {
      "cell_type": "code",
      "source": "class Class:\n    def __init__(self, number):\n        self.number = number\n\nfor i in range(1, 11):\n    class_object = Class(number=i)\n    print(f'Object {i}: number = {class_object.number}')\n",
      "metadata": {
        "trusted": true
      },
      "outputs": [
        {
          "name": "stdout",
          "text": "Object 1: number = 1\nObject 2: number = 2\nObject 3: number = 3\nObject 4: number = 4\nObject 5: number = 5\nObject 6: number = 6\nObject 7: number = 7\nObject 8: number = 8\nObject 9: number = 9\nObject 10: number = 10\n",
          "output_type": "stream"
        }
      ],
      "execution_count": 1
    }
  ]
}